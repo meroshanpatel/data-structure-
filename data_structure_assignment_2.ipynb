{
  "nbformat": 4,
  "nbformat_minor": 0,
  "metadata": {
    "colab": {
      "provenance": []
    },
    "kernelspec": {
      "name": "python3",
      "display_name": "Python 3"
    },
    "language_info": {
      "name": "python"
    }
  },
  "cells": [
    {
      "cell_type": "code",
      "execution_count": null,
      "metadata": {
        "id": "_poBXDGh4HnT"
      },
      "outputs": [],
      "source": [
        "# data type and structure questions\n"
      ]
    },
    {
      "cell_type": "code",
      "source": [
        "'''\n",
        "1 What are data structures, and why are they important?\n",
        "\n",
        " data structure way of organising and storing data so that the work can be done on it. they are basically types of data in language like integer string boolean and other\n",
        " they are important as we cant perform all the operation by using single data so need different varities\n",
        " '''"
      ],
      "metadata": {
        "id": "rfPPHesJ4KLh"
      },
      "execution_count": null,
      "outputs": []
    },
    {
      "cell_type": "code",
      "source": [
        "'''\n",
        "2 Explain the difference between mutable and immutable data types with examples?\n",
        "\n",
        "  mutable are the data type that can be changed such as list while immutable data type cannot be changed such as string\n",
        "\n",
        "'''\n",
        "l=[1,2,3,4]\n",
        "l[2]=5\n",
        "print(l)\n",
        "\n"
      ],
      "metadata": {
        "colab": {
          "base_uri": "https://localhost:8080/"
        },
        "id": "yT4Bg0pn4KTa",
        "outputId": "37eefcd3-3f96-46a9-cc24-fd0758b0089d"
      },
      "execution_count": null,
      "outputs": [
        {
          "output_type": "stream",
          "name": "stdout",
          "text": [
            "[1, 2, 5, 4]\n"
          ]
        }
      ]
    },
    {
      "cell_type": "code",
      "source": [
        "l=(1,2,3,4)\n",
        "l[2]=5\n",
        "print(l)"
      ],
      "metadata": {
        "colab": {
          "base_uri": "https://localhost:8080/",
          "height": 176
        },
        "id": "yfWaU7Y44KUo",
        "outputId": "2713ac3a-e66d-4fac-c849-965c5061adbd"
      },
      "execution_count": null,
      "outputs": [
        {
          "output_type": "error",
          "ename": "TypeError",
          "evalue": "'tuple' object does not support item assignment",
          "traceback": [
            "\u001b[0;31m---------------------------------------------------------------------------\u001b[0m",
            "\u001b[0;31mTypeError\u001b[0m                                 Traceback (most recent call last)",
            "\u001b[0;32m/tmp/ipython-input-2-341649059.py\u001b[0m in \u001b[0;36m<cell line: 0>\u001b[0;34m()\u001b[0m\n\u001b[1;32m      1\u001b[0m \u001b[0ml\u001b[0m\u001b[0;34m=\u001b[0m\u001b[0;34m(\u001b[0m\u001b[0;36m1\u001b[0m\u001b[0;34m,\u001b[0m\u001b[0;36m2\u001b[0m\u001b[0;34m,\u001b[0m\u001b[0;36m3\u001b[0m\u001b[0;34m,\u001b[0m\u001b[0;36m4\u001b[0m\u001b[0;34m)\u001b[0m\u001b[0;34m\u001b[0m\u001b[0;34m\u001b[0m\u001b[0m\n\u001b[0;32m----> 2\u001b[0;31m \u001b[0ml\u001b[0m\u001b[0;34m[\u001b[0m\u001b[0;36m2\u001b[0m\u001b[0;34m]\u001b[0m\u001b[0;34m=\u001b[0m\u001b[0;36m5\u001b[0m\u001b[0;34m\u001b[0m\u001b[0;34m\u001b[0m\u001b[0m\n\u001b[0m\u001b[1;32m      3\u001b[0m \u001b[0mprint\u001b[0m\u001b[0;34m(\u001b[0m\u001b[0ml\u001b[0m\u001b[0;34m)\u001b[0m\u001b[0;34m\u001b[0m\u001b[0;34m\u001b[0m\u001b[0m\n",
            "\u001b[0;31mTypeError\u001b[0m: 'tuple' object does not support item assignment"
          ]
        }
      ]
    },
    {
      "cell_type": "code",
      "source": [
        "'''\n",
        "3.What are the main differences between lists and tuples in Python?\n",
        "\n",
        "lists are mutable while tuples are immutable\n",
        "'''\n"
      ],
      "metadata": {
        "id": "e9dtgAvC4KVs"
      },
      "execution_count": null,
      "outputs": []
    },
    {
      "cell_type": "code",
      "source": [
        "'''\n",
        "4.Describe how dictionaries store data?\n",
        "\n",
        " dicitinary store data in key value pair\n",
        " info={name:roshan,age:25}\n",
        "\n",
        "'''"
      ],
      "metadata": {
        "id": "53pf_vSR4KWv"
      },
      "execution_count": null,
      "outputs": []
    },
    {
      "cell_type": "code",
      "source": [
        "'''\n",
        "5.Why might you use a set instead of a list in Python?\n",
        "\n",
        " bcz set only store unique values while in list it can be repeated\n",
        "'''"
      ],
      "metadata": {
        "id": "iPF-Sjc24KX_"
      },
      "execution_count": null,
      "outputs": []
    },
    {
      "cell_type": "code",
      "source": [
        "'''\n",
        "6.What is a string in Python, and how is it different from a list?\n",
        "\n",
        " strings are like a sequence of characater represent and manipulate data strings are immutable while list are mutable\n",
        "\n",
        "'''"
      ],
      "metadata": {
        "id": "WysPd3bZ4KaG"
      },
      "execution_count": null,
      "outputs": []
    },
    {
      "cell_type": "code",
      "source": [
        "'''\n",
        "7 How do tuples ensure data integrity in Python?\n",
        "\n",
        "  data integity means data is safe and secure no one can change it in program\n",
        "  and tuples are immutable so data integrity is ensured\n",
        "'''"
      ],
      "metadata": {
        "id": "Wi4ayPFP4KbI"
      },
      "execution_count": null,
      "outputs": []
    },
    {
      "cell_type": "code",
      "source": [
        "'''\n",
        "8 What is a hash table, and how does it relate to dictionaries in Python?\n",
        "\n",
        "  hash table is a data sturcture in which values are store like as a bucket\n",
        "  the same thing happens in dictionaries as it also store in key value form\n",
        "\n",
        "  '''\n"
      ],
      "metadata": {
        "id": "MjLq3XJN4KcL"
      },
      "execution_count": null,
      "outputs": []
    },
    {
      "cell_type": "code",
      "source": [
        "'''\n",
        "9 Can lists contain different data types in Python?\n",
        "\n",
        " yes list contains all the data types such as string num boolean etc\n",
        " '''\n",
        "l=[1,2,3,4,'roshan',True]\n",
        "l"
      ],
      "metadata": {
        "colab": {
          "base_uri": "https://localhost:8080/"
        },
        "id": "fbZY58k44KdC",
        "outputId": "883f5a09-2ce9-408b-b181-a35af495b345"
      },
      "execution_count": null,
      "outputs": [
        {
          "output_type": "execute_result",
          "data": {
            "text/plain": [
              "[1, 2, 3, 4, 'roshan', True]"
            ]
          },
          "metadata": {},
          "execution_count": 8
        }
      ]
    },
    {
      "cell_type": "code",
      "source": [
        "'''\n",
        "10 Explain why strings are immutable in Python?\n",
        "\n",
        "strings are immutable as once it created cant be changed\n",
        "but we can do other function on it such as concatenation\n",
        "slicing and replacing of vlaues\n",
        "\n"
      ],
      "metadata": {
        "id": "WmI5A0ZB4KeD"
      },
      "execution_count": null,
      "outputs": []
    },
    {
      "cell_type": "code",
      "source": [
        "'''\n",
        "11 What advantages do dictionaries offer over lists for certain tasks?\n",
        "\n",
        " both have work of storing values but dictionaries have advantage as it store in key value format\n",
        " so that we can retrive or call any particular key value pair\n",
        "\n",
        "'''"
      ],
      "metadata": {
        "id": "MmZiVGCc4KfG"
      },
      "execution_count": null,
      "outputs": []
    },
    {
      "cell_type": "code",
      "source": [
        "'''\n",
        "12 Describe a scenario where using a tuple would be preferable over a list?\n",
        " list are mutable tuple are not password and address are like tuple cant change\n",
        " while list can be changed such as grocery list\n",
        "'''\n"
      ],
      "metadata": {
        "id": "Us5K0UO64KgB"
      },
      "execution_count": null,
      "outputs": []
    },
    {
      "cell_type": "code",
      "source": [
        "'''\n",
        "13 How do sets handle duplicate values in Python?\n",
        "\n",
        "sets only store unique values that is the reason it doesnt store duplicate values\n",
        "it will print only unique values\n",
        "\n",
        "'''"
      ],
      "metadata": {
        "id": "SpPhwRo64KhN"
      },
      "execution_count": null,
      "outputs": []
    },
    {
      "cell_type": "code",
      "source": [
        "'''\n",
        "14 How does the “in” keyword work differently for lists and dictionaries?\n",
        "\n",
        " in is the membership operator to find value in list it is used to check presence of element\n",
        " while in the dictionary it is used to check presence of key\n",
        "'''"
      ],
      "metadata": {
        "id": "gdYjyuCg4KiK"
      },
      "execution_count": null,
      "outputs": []
    },
    {
      "cell_type": "code",
      "source": [
        "'''\n",
        "15 Can you modify the elements of a tuple? Explain why or why not?\n",
        "\n",
        "  once tuple is created cant be modified as it is immutable\n",
        "\n",
        "'''"
      ],
      "metadata": {
        "id": "n9xWRY6q4KjU"
      },
      "execution_count": null,
      "outputs": []
    },
    {
      "cell_type": "code",
      "source": [
        "'''\n",
        "16 What is a nested dictionary, and give an example of its use case?\n",
        "\n",
        "dicitinary inside dictionary is called nested dictionary\n",
        "'''\n",
        "info={'male':{'name':'roshan','age':25,'female':{'name':'nishu','age':24}}}\n",
        "info\n"
      ],
      "metadata": {
        "colab": {
          "base_uri": "https://localhost:8080/"
        },
        "id": "moVX0b7U4Kkn",
        "outputId": "f66f0bcd-634e-41cd-bc72-32b788843746"
      },
      "execution_count": null,
      "outputs": [
        {
          "output_type": "execute_result",
          "data": {
            "text/plain": [
              "{'male': {'name': 'roshan', 'age': 25, 'female': {'name': 'nishu', 'age': 24}}}"
            ]
          },
          "metadata": {},
          "execution_count": 21
        }
      ]
    },
    {
      "cell_type": "code",
      "source": [
        "'''\n",
        "17 Describe the time complexity of accessing elements in a dictionary?\n",
        "\n",
        "there are lots of data structure in which dictionary are the fastest one\n",
        "to store and access or retrieve using key value pair as it uses stable hash value\n",
        "\n",
        "'''\n",
        "\n",
        "\n"
      ],
      "metadata": {
        "id": "NFjTmI3w4Kln"
      },
      "execution_count": null,
      "outputs": []
    },
    {
      "cell_type": "code",
      "source": [
        "'''\n",
        "18 In what situations are lists preferred over dictionaries?\n",
        "\n",
        " list are to be used when the order matters as in calling list comes in order\n",
        " while dictionaries are not come in orderly collection\n",
        "\n",
        " '''\n",
        "\n",
        "\n"
      ],
      "metadata": {
        "id": "qpYfyCnZ4Kmm"
      },
      "execution_count": null,
      "outputs": []
    },
    {
      "cell_type": "code",
      "source": [
        "'''\n",
        "19 Why are dictionaries considered unordered, and how does that affect data retrieval?\n",
        "\n",
        "dictionary are unordered collection by key value function not have any order while iteration it affect the data retrival as\n",
        "they are called by key value pair\n",
        "\n",
        "'''\n"
      ],
      "metadata": {
        "id": "jewvdTSq4Kn7"
      },
      "execution_count": null,
      "outputs": []
    },
    {
      "cell_type": "code",
      "source": [
        "'''\n",
        "20 Explain the difference between a list and a dictionary in terms of data retrieval?\n",
        "\n",
        "list are ordered collection and dictionary are unordered collection\n",
        "and list can be accessed using index function but dicitinary can be accessed using key value pair\n",
        "\n",
        "'''\n"
      ],
      "metadata": {
        "id": "3ilbm4Ph4KpD"
      },
      "execution_count": null,
      "outputs": []
    },
    {
      "cell_type": "markdown",
      "source": [
        "# practical question\n"
      ],
      "metadata": {
        "id": "kkGQkBIRgZ0d"
      }
    },
    {
      "cell_type": "code",
      "source": [
        "'''\n",
        " 1 Write a code to create a string with your name and print it?\n",
        "\n",
        " '''\n",
        "name='roshan'\n",
        "\n",
        "print(name)"
      ],
      "metadata": {
        "id": "sNWVNPbl4Kuy",
        "colab": {
          "base_uri": "https://localhost:8080/"
        },
        "outputId": "8e33f93a-7dd6-4a32-aec7-e058017a72ed"
      },
      "execution_count": null,
      "outputs": [
        {
          "output_type": "stream",
          "name": "stdout",
          "text": [
            "roshan\n"
          ]
        }
      ]
    },
    {
      "cell_type": "code",
      "source": [
        "'''\n",
        "2.Write a code to find the length of the string \"Hello World\"?\n",
        "'''\n",
        "a=\"hello world\"\n",
        "len(a)"
      ],
      "metadata": {
        "id": "gMgtXNUZ4Kv_",
        "colab": {
          "base_uri": "https://localhost:8080/"
        },
        "outputId": "d59d4ff2-31d0-473f-e116-153dfaf62a03"
      },
      "execution_count": null,
      "outputs": [
        {
          "output_type": "execute_result",
          "data": {
            "text/plain": [
              "11"
            ]
          },
          "metadata": {},
          "execution_count": 3
        }
      ]
    },
    {
      "cell_type": "code",
      "source": [
        "'''\n",
        "3 Write a code to slice the first 3 characters from the string \"Python Programming?\n",
        "'''\n",
        "a=\"roshan patel\"\n",
        "a[0:3]"
      ],
      "metadata": {
        "id": "AchHq-FU4KxJ",
        "colab": {
          "base_uri": "https://localhost:8080/",
          "height": 36
        },
        "outputId": "90bd68ab-9ec5-478d-9565-489ad4ec9951"
      },
      "execution_count": null,
      "outputs": [
        {
          "output_type": "execute_result",
          "data": {
            "text/plain": [
              "'ros'"
            ],
            "application/vnd.google.colaboratory.intrinsic+json": {
              "type": "string"
            }
          },
          "metadata": {},
          "execution_count": 64
        }
      ]
    },
    {
      "cell_type": "code",
      "source": [
        "'''\n",
        "4 Write a code to convert the string \"hello\" to uppercase?\n",
        "'''\n",
        "h=\"hello\"\n",
        "h.upper()"
      ],
      "metadata": {
        "id": "9ShBblWL4Kyb",
        "colab": {
          "base_uri": "https://localhost:8080/",
          "height": 36
        },
        "outputId": "5ddb9a27-5cd7-4f40-b410-8ad20acd08bc"
      },
      "execution_count": null,
      "outputs": [
        {
          "output_type": "execute_result",
          "data": {
            "text/plain": [
              "'HELLO'"
            ],
            "application/vnd.google.colaboratory.intrinsic+json": {
              "type": "string"
            }
          },
          "metadata": {},
          "execution_count": 9
        }
      ]
    },
    {
      "cell_type": "code",
      "source": [
        "'''\n",
        "5. Write a code to replace the word \"apple\" with \"orange\" in the string \"I like apple\"?\n",
        "'''\n",
        "fruits=\"i like apple\"\n",
        "fruits.replace(\"apple\",\"orange\")"
      ],
      "metadata": {
        "id": "zI5ru2hf4Kz8",
        "colab": {
          "base_uri": "https://localhost:8080/",
          "height": 36
        },
        "outputId": "d0912ac5-c058-4f8c-cf20-fa0191870393"
      },
      "execution_count": null,
      "outputs": [
        {
          "output_type": "execute_result",
          "data": {
            "text/plain": [
              "'i like orange'"
            ],
            "application/vnd.google.colaboratory.intrinsic+json": {
              "type": "string"
            }
          },
          "metadata": {},
          "execution_count": 10
        }
      ]
    },
    {
      "cell_type": "code",
      "source": [
        "'''\n",
        "6.Write a code to create a list with numbers 1 to 5 and print it\n",
        "'''\n",
        "n=[1,2,3,4,5]\n",
        "n"
      ],
      "metadata": {
        "id": "azqZn7A94K1f",
        "colab": {
          "base_uri": "https://localhost:8080/"
        },
        "outputId": "4acaed27-b81d-4dcb-acff-35236fa2f57f"
      },
      "execution_count": null,
      "outputs": [
        {
          "output_type": "execute_result",
          "data": {
            "text/plain": [
              "[1, 2, 3, 4, 5]"
            ]
          },
          "metadata": {},
          "execution_count": 11
        }
      ]
    },
    {
      "cell_type": "code",
      "source": [
        "'''\n",
        "7 Write a code to append the number 10 to the list [1, 2, 3, 4]?\n",
        "'''\n",
        "l=[1,2,3,4]\n",
        "l.append(10)\n",
        "l"
      ],
      "metadata": {
        "id": "2u3WhwtQ4K2t",
        "colab": {
          "base_uri": "https://localhost:8080/"
        },
        "outputId": "d63dce0f-6eed-4eca-a53e-408cce015abc"
      },
      "execution_count": null,
      "outputs": [
        {
          "output_type": "execute_result",
          "data": {
            "text/plain": [
              "[1, 2, 3, 4, 10]"
            ]
          },
          "metadata": {},
          "execution_count": 12
        }
      ]
    },
    {
      "cell_type": "code",
      "source": [
        "'''\n",
        "8 Write a code to remove the number 3 from the list [1, 2, 3, 4, 5]?\n",
        "'''\n",
        "p=[1,2,3,4,5]\n",
        "p.remove(3)\n",
        "p"
      ],
      "metadata": {
        "id": "4jRPMNEF4K5S",
        "colab": {
          "base_uri": "https://localhost:8080/"
        },
        "outputId": "a1c5d323-b212-4ea8-ca6d-2c5f7380eb2e"
      },
      "execution_count": null,
      "outputs": [
        {
          "output_type": "execute_result",
          "data": {
            "text/plain": [
              "[1, 2, 4, 5]"
            ]
          },
          "metadata": {},
          "execution_count": 16
        }
      ]
    },
    {
      "cell_type": "code",
      "source": [
        "'''\n",
        "9 Write a code to access the second element in the list ['a', 'b', 'c', 'd'] ?\n",
        "'''\n",
        "A=['a','b','c','d']\n",
        "A[-3]"
      ],
      "metadata": {
        "id": "jxQ55ZRu4K62",
        "colab": {
          "base_uri": "https://localhost:8080/",
          "height": 36
        },
        "outputId": "31bc59a3-8454-4304-fc9e-b500b6a41736"
      },
      "execution_count": null,
      "outputs": [
        {
          "output_type": "execute_result",
          "data": {
            "text/plain": [
              "'b'"
            ],
            "application/vnd.google.colaboratory.intrinsic+json": {
              "type": "string"
            }
          },
          "metadata": {},
          "execution_count": 17
        }
      ]
    },
    {
      "cell_type": "code",
      "source": [
        "'''\n",
        "10 Write a code to reverse the list [10, 20, 30, 40, 50] ?\n",
        "'''\n",
        "n=[10,20,30,40]\n",
        "n.reverse()\n",
        "n"
      ],
      "metadata": {
        "id": "injWMpSO4K8j",
        "colab": {
          "base_uri": "https://localhost:8080/"
        },
        "outputId": "d7a9dcbb-6263-4b9f-cd85-e252ff55deed"
      },
      "execution_count": null,
      "outputs": [
        {
          "output_type": "execute_result",
          "data": {
            "text/plain": [
              "[40, 30, 20, 10]"
            ]
          },
          "metadata": {},
          "execution_count": 18
        }
      ]
    },
    {
      "cell_type": "code",
      "source": [
        "'''\n",
        "11. Write a code to create a tuple with the elements 100, 200, 300 and print it ?\n",
        "'''\n",
        "t=(100,200,300)\n",
        "t"
      ],
      "metadata": {
        "id": "j-916tIR4K-N",
        "colab": {
          "base_uri": "https://localhost:8080/"
        },
        "outputId": "9c15dc26-c86b-47a2-b7eb-93bf9e95e984"
      },
      "execution_count": null,
      "outputs": [
        {
          "output_type": "execute_result",
          "data": {
            "text/plain": [
              "(100, 200, 300)"
            ]
          },
          "metadata": {},
          "execution_count": 19
        }
      ]
    },
    {
      "cell_type": "code",
      "source": [
        "'''\n",
        "12.Write a code to access the second-to-last element of the tuple ('red', 'green', 'blue', 'yellow') ?\n",
        "'''\n",
        "t=('red','green','blue','yellow')\n",
        "t[-2]"
      ],
      "metadata": {
        "id": "7YF3t5Zr4K_e",
        "colab": {
          "base_uri": "https://localhost:8080/",
          "height": 36
        },
        "outputId": "c954ed88-5f77-4067-f5aa-cac71867c326"
      },
      "execution_count": null,
      "outputs": [
        {
          "output_type": "execute_result",
          "data": {
            "text/plain": [
              "'blue'"
            ],
            "application/vnd.google.colaboratory.intrinsic+json": {
              "type": "string"
            }
          },
          "metadata": {},
          "execution_count": 20
        }
      ]
    },
    {
      "cell_type": "code",
      "source": [
        "'''\n",
        "13 Write a code to find the minimum number in the tuple (10, 20, 5, 15) ?\n",
        "'''\n",
        "t=(10,20,5,15)\n",
        "min(t)"
      ],
      "metadata": {
        "id": "TUx4XDkQ4LAr",
        "colab": {
          "base_uri": "https://localhost:8080/"
        },
        "outputId": "cb8e8a09-4e98-43d4-aaac-ec9c7c2abe69"
      },
      "execution_count": null,
      "outputs": [
        {
          "output_type": "execute_result",
          "data": {
            "text/plain": [
              "5"
            ]
          },
          "metadata": {},
          "execution_count": 21
        }
      ]
    },
    {
      "cell_type": "code",
      "source": [
        "'''\n",
        "14 Write a code to find the index of the element \"cat\" in the tuple ('dog', 'cat', 'rabbit') ?\n",
        "'''\n",
        "animal=('dog','cat','rabbit')\n",
        "animal.index('cat')"
      ],
      "metadata": {
        "id": "EieILxNN4LB7",
        "colab": {
          "base_uri": "https://localhost:8080/"
        },
        "outputId": "7182c26a-5f25-4d74-98ff-98ffe83af825"
      },
      "execution_count": null,
      "outputs": [
        {
          "output_type": "execute_result",
          "data": {
            "text/plain": [
              "1"
            ]
          },
          "metadata": {},
          "execution_count": 22
        }
      ]
    },
    {
      "cell_type": "code",
      "source": [
        "'''\n",
        "15 Write a code to create a tuple containing three different fruits and check if \"kiwi\" is in it\n",
        "'''\n",
        "fruits=('papaya','apple','kiwi')\n",
        "for i in fruits:\n",
        "    if i=='kiwi':\n",
        "        print('yes')\n"
      ],
      "metadata": {
        "id": "Zs3n1FtK4LDU",
        "colab": {
          "base_uri": "https://localhost:8080/"
        },
        "outputId": "57e81347-a59c-4be2-d9f3-1d44e2016441"
      },
      "execution_count": null,
      "outputs": [
        {
          "output_type": "stream",
          "name": "stdout",
          "text": [
            "yes\n"
          ]
        }
      ]
    },
    {
      "cell_type": "code",
      "source": [
        "'''\n",
        "16 Write a code to create a set with the elements 'a', 'b', 'c' and print it?\n",
        "'''\n",
        "s={'a','b','c','d'}\n",
        "s"
      ],
      "metadata": {
        "id": "769kXY254LEk",
        "colab": {
          "base_uri": "https://localhost:8080/"
        },
        "outputId": "73f9d681-1142-403a-f13e-3f7ae1939f87"
      },
      "execution_count": null,
      "outputs": [
        {
          "output_type": "execute_result",
          "data": {
            "text/plain": [
              "{'a', 'b', 'c', 'd'}"
            ]
          },
          "metadata": {},
          "execution_count": 26
        }
      ]
    },
    {
      "cell_type": "code",
      "source": [
        "'''\n",
        "17 Write a code to clear all elements from the set {1, 2, 3, 4, 5}.\n",
        "'''\n",
        "s={1,2,3,4,5}\n",
        "s.clear()\n",
        "s"
      ],
      "metadata": {
        "id": "aFWsKh4x4LGG",
        "colab": {
          "base_uri": "https://localhost:8080/"
        },
        "outputId": "4115bc6a-bb3d-4caa-f81e-22965ddf4a82"
      },
      "execution_count": null,
      "outputs": [
        {
          "output_type": "execute_result",
          "data": {
            "text/plain": [
              "set()"
            ]
          },
          "metadata": {},
          "execution_count": 27
        }
      ]
    },
    {
      "cell_type": "code",
      "source": [
        "'''\n",
        "18 Write a code to remove the element 4 from the set {1, 2, 3, 4}?\n",
        "'''\n",
        "s={1,2,3,4}\n",
        "s.remove(4)\n",
        "s"
      ],
      "metadata": {
        "id": "DKvYQD3S4LH4",
        "colab": {
          "base_uri": "https://localhost:8080/"
        },
        "outputId": "4fc027b4-bb86-4afa-dbc7-aaa61e1f0d2b"
      },
      "execution_count": null,
      "outputs": [
        {
          "output_type": "execute_result",
          "data": {
            "text/plain": [
              "{1, 2, 3}"
            ]
          },
          "metadata": {},
          "execution_count": 28
        }
      ]
    },
    {
      "cell_type": "code",
      "source": [
        "'''\n",
        "19 Write a code to find the union of two sets {1, 2, 3} and {3, 4, 5}?\n",
        "'''\n",
        "s1={1,2,3,4}\n",
        "s2={6,7,8}\n",
        "s1|s2"
      ],
      "metadata": {
        "id": "c_etqV0b4LKL",
        "colab": {
          "base_uri": "https://localhost:8080/"
        },
        "outputId": "c8f387af-c621-401b-9d8a-1a5c7fa23245"
      },
      "execution_count": null,
      "outputs": [
        {
          "output_type": "execute_result",
          "data": {
            "text/plain": [
              "{1, 2, 3, 4, 6, 7, 8}"
            ]
          },
          "metadata": {},
          "execution_count": 33
        }
      ]
    },
    {
      "cell_type": "code",
      "source": [
        "'''\n",
        "20 Write a code to find the intersection of two sets {1, 2, 3} and {2, 3, 4}?\n",
        "'''\n",
        "s1={1,2,3,4}\n",
        "s2={2,3,4}\n",
        "s1&s2"
      ],
      "metadata": {
        "id": "62OrmzKc4LLh",
        "colab": {
          "base_uri": "https://localhost:8080/"
        },
        "outputId": "522df469-0c76-4d2c-d784-8dd04a517856"
      },
      "execution_count": null,
      "outputs": [
        {
          "output_type": "execute_result",
          "data": {
            "text/plain": [
              "{2, 3, 4}"
            ]
          },
          "metadata": {},
          "execution_count": 34
        }
      ]
    },
    {
      "cell_type": "code",
      "source": [
        "'''\n",
        "21 Write a code to create a dictionary with the keys \"name\", \"age\", and \"city\", and print it ?\n",
        "'''\n",
        "personal_info={'name':'roshan patel','age':25,'city':'indore'}\n",
        "personal_info"
      ],
      "metadata": {
        "id": "kc0LybxJ4LM3",
        "colab": {
          "base_uri": "https://localhost:8080/"
        },
        "outputId": "439d06d8-7a3e-497c-f6ad-9f8233098a6c"
      },
      "execution_count": null,
      "outputs": [
        {
          "output_type": "execute_result",
          "data": {
            "text/plain": [
              "{'name': 'roshan patel', 'age': 25, 'city': 'indore'}"
            ]
          },
          "metadata": {},
          "execution_count": 38
        }
      ]
    },
    {
      "cell_type": "code",
      "source": [
        "'''\n",
        "22 Write a code to add a new key-value pair \"country\": \"USA\" to the dictionary {'name': 'John', 'age': 25} ?\n",
        "'''\n",
        "personal_info={'name':'roshan patel','age':25}\n",
        "personal_info['country']='USA'\n",
        "personal_info"
      ],
      "metadata": {
        "id": "vaf_BYck4LOa",
        "colab": {
          "base_uri": "https://localhost:8080/"
        },
        "outputId": "cd894462-306f-4c75-a513-4422fff5ebbd"
      },
      "execution_count": null,
      "outputs": [
        {
          "output_type": "execute_result",
          "data": {
            "text/plain": [
              "{'name': 'roshan patel', 'age': 25, 'country': 'USA'}"
            ]
          },
          "metadata": {},
          "execution_count": 39
        }
      ]
    },
    {
      "cell_type": "code",
      "source": [
        "'''\n",
        "23 Write a code to access the value associated with the key \"name\" in the dictionary {'name': 'Alice', 'age': 30}?\n",
        "'''\n",
        "employee_info={'name':'roshan patel','age':25}\n",
        "employee_info['name']"
      ],
      "metadata": {
        "id": "21ZmOuq94LQ6",
        "colab": {
          "base_uri": "https://localhost:8080/",
          "height": 36
        },
        "outputId": "b959b907-18fe-44ed-9fc9-87dbdcbd841f"
      },
      "execution_count": null,
      "outputs": [
        {
          "output_type": "execute_result",
          "data": {
            "text/plain": [
              "'roshan patel'"
            ],
            "application/vnd.google.colaboratory.intrinsic+json": {
              "type": "string"
            }
          },
          "metadata": {},
          "execution_count": 40
        }
      ]
    },
    {
      "cell_type": "code",
      "source": [
        "'''\n",
        "24.Write a code to remove the key \"age\" from the dictionary {'name': 'Bob', 'age': 22, 'city': 'New York'}?\n",
        "'''\n",
        "student_info={'name':'amit kumar','age':22,'city':'newyork'}\n",
        "student_info.pop('age')\n",
        "student_info"
      ],
      "metadata": {
        "id": "bAi-ZfGM4LYJ",
        "colab": {
          "base_uri": "https://localhost:8080/"
        },
        "outputId": "eee206b1-f7bd-4d19-a9d2-8fdf05cf0c73"
      },
      "execution_count": null,
      "outputs": [
        {
          "output_type": "execute_result",
          "data": {
            "text/plain": [
              "{'name': 'amit kumar', 'city': 'newyork'}"
            ]
          },
          "metadata": {},
          "execution_count": 43
        }
      ]
    },
    {
      "cell_type": "code",
      "source": [
        "'''\n",
        "25 Write a code to check if the key \"city\" exists in the dictionary {'name': 'Alice', 'city': 'Paris'}?\n",
        "'''\n",
        "employee_info={'name':'roshan patel','city':'indore'}\n",
        "for i in employee_info:\n",
        "    if i=='city':\n",
        "        print('yes')"
      ],
      "metadata": {
        "id": "40ptSfVy4Lb1",
        "colab": {
          "base_uri": "https://localhost:8080/"
        },
        "outputId": "912fa06a-5c1c-4bfc-a400-41364221476a"
      },
      "execution_count": null,
      "outputs": [
        {
          "output_type": "stream",
          "name": "stdout",
          "text": [
            "yes\n"
          ]
        }
      ]
    },
    {
      "cell_type": "code",
      "source": [
        "'''\n",
        "26 Write a code to create a list, a tuple, and a dictionary, and print them all?\n",
        "'''\n",
        "l=[1,2,3,4]\n",
        "t=(1,2,3,4)\n",
        "d={'name':'roshan','age':25}\n",
        "print(l)\n",
        "print(t)\n",
        "print(d)"
      ],
      "metadata": {
        "colab": {
          "base_uri": "https://localhost:8080/"
        },
        "id": "ZdcSvzhbobrk",
        "outputId": "5d6cf799-145d-47f7-f592-927939a45557"
      },
      "execution_count": null,
      "outputs": [
        {
          "output_type": "stream",
          "name": "stdout",
          "text": [
            "[1, 2, 3, 4]\n",
            "(1, 2, 3, 4)\n",
            "{'name': 'roshan', 'age': 25}\n"
          ]
        }
      ]
    },
    {
      "cell_type": "code",
      "source": [
        "'''\n",
        "27 Write a code to create a list of 5 random numbers between 1 and 100, sort it in ascending order, and print the result (replaced)?\n",
        "'''\n",
        "import random\n",
        "l=[random.randint(1,100) for i in range(5)]\n",
        "l.sort()\n",
        "l"
      ],
      "metadata": {
        "colab": {
          "base_uri": "https://localhost:8080/"
        },
        "id": "4v4y5nTEoqo7",
        "outputId": "9a3a7e91-b1c2-4e46-9dd3-8a7cc84b7277"
      },
      "execution_count": null,
      "outputs": [
        {
          "output_type": "execute_result",
          "data": {
            "text/plain": [
              "[9, 87, 96, 97, 97]"
            ]
          },
          "metadata": {},
          "execution_count": 48
        }
      ]
    },
    {
      "cell_type": "code",
      "source": [
        "'''\n",
        "28 Write a code to create a list with strings and print the element at the third index.?\n",
        "'''\n",
        "n=['amit','roshan','viraj','jeewan']\n",
        "n[3]\n"
      ],
      "metadata": {
        "colab": {
          "base_uri": "https://localhost:8080/",
          "height": 36
        },
        "id": "Up1fkZSBor_J",
        "outputId": "02a0f490-8467-4b95-f5c6-031417c2fdb2"
      },
      "execution_count": 1,
      "outputs": [
        {
          "output_type": "execute_result",
          "data": {
            "text/plain": [
              "'jeewan'"
            ],
            "application/vnd.google.colaboratory.intrinsic+json": {
              "type": "string"
            }
          },
          "metadata": {},
          "execution_count": 1
        }
      ]
    },
    {
      "cell_type": "code",
      "source": [
        "'''\n",
        "29 Write a code to combine two dictionaries into one and print the result?\n",
        "'''\n",
        "d1={'name':'roshan','age':25}\n",
        "d2={'city':'indore','country':'india'}\n",
        "d1.update(d2)\n",
        "d1"
      ],
      "metadata": {
        "colab": {
          "base_uri": "https://localhost:8080/"
        },
        "id": "ynUAakohosCF",
        "outputId": "dc401f66-2bce-4ed6-fe36-8d05c40313d8"
      },
      "execution_count": null,
      "outputs": [
        {
          "output_type": "execute_result",
          "data": {
            "text/plain": [
              "{'name': 'roshan', 'age': 25, 'city': 'indore', 'country': 'india'}"
            ]
          },
          "metadata": {},
          "execution_count": 50
        }
      ]
    },
    {
      "cell_type": "code",
      "source": [
        "'''\n",
        "30 Write a code to convert a list of strings into a set?\n",
        "'''\n",
        "a=['apple','banana','mango']\n",
        "set(a)"
      ],
      "metadata": {
        "colab": {
          "base_uri": "https://localhost:8080/"
        },
        "id": "iiHVRDOtosJ7",
        "outputId": "f37931a3-0014-4a3b-daba-a29daa6289c9"
      },
      "execution_count": null,
      "outputs": [
        {
          "output_type": "execute_result",
          "data": {
            "text/plain": [
              "{'apple', 'banana', 'mango'}"
            ]
          },
          "metadata": {},
          "execution_count": 61
        }
      ]
    },
    {
      "cell_type": "code",
      "source": [],
      "metadata": {
        "id": "kPnLDXY3osML"
      },
      "execution_count": null,
      "outputs": []
    },
    {
      "cell_type": "code",
      "source": [],
      "metadata": {
        "id": "4QA8a-oWosOg"
      },
      "execution_count": null,
      "outputs": []
    },
    {
      "cell_type": "code",
      "source": [],
      "metadata": {
        "id": "Nmgl7IGvosRN"
      },
      "execution_count": null,
      "outputs": []
    },
    {
      "cell_type": "code",
      "source": [],
      "metadata": {
        "id": "rprooPvBosTj"
      },
      "execution_count": null,
      "outputs": []
    },
    {
      "cell_type": "code",
      "source": [],
      "metadata": {
        "id": "Vd7CNRRposWC"
      },
      "execution_count": null,
      "outputs": []
    },
    {
      "cell_type": "code",
      "source": [],
      "metadata": {
        "id": "BDzXYD5josYY"
      },
      "execution_count": null,
      "outputs": []
    },
    {
      "cell_type": "code",
      "source": [],
      "metadata": {
        "id": "lJblbT2GosbM"
      },
      "execution_count": null,
      "outputs": []
    },
    {
      "cell_type": "code",
      "source": [],
      "metadata": {
        "id": "zDKXDmpposdn"
      },
      "execution_count": null,
      "outputs": []
    },
    {
      "cell_type": "code",
      "source": [],
      "metadata": {
        "id": "LfYzkdFRoshK"
      },
      "execution_count": null,
      "outputs": []
    }
  ]
}